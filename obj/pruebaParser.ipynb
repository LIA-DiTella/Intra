{
 "cells": [
  {
   "cell_type": "code",
   "execution_count": 1,
   "metadata": {},
   "outputs": [],
   "source": [
    "from parseObj import calcularMatriz, calcularGrafoYArbol\n",
    "import numpy as np\n",
    "import networkx as nx"
   ]
  },
  {
   "cell_type": "code",
   "execution_count": 2,
   "metadata": {},
   "outputs": [],
   "source": [
    "import pickle"
   ]
  },
  {
   "cell_type": "code",
   "execution_count": 6,
   "metadata": {},
   "outputs": [
    {
     "name": "stdout",
     "output_type": "stream",
     "text": [
      "#  3D Slicer output. SPACE=LPS\n",
      "\n",
      "\n",
      "\n",
      "mtllib ArteryObjAN1-4-network.mtl\n",
      "\n",
      "\n",
      "\n",
      "v -24.919729232788086 -63.25462341308594 -50.906166076660156\n",
      "\n",
      "v -25.911909103393555 -61.140228271484375 -53.47017288208008\n",
      "\n",
      "v -24.96282958984375 -60.06010055541992 -55.083683013916016\n",
      "\n",
      "v -24.271181106567383 -59.69049835205078 -56.04694747924805\n",
      "\n",
      "v -23.313859939575195 -59.63058090209961 -56.92844772338867\n",
      "\n",
      "v -21.943180084228516 -59.539031982421875 -57.75766372680664\n",
      "\n",
      "v -20.870113372802734 -59.65144348144531 -58.42268753051758\n",
      "\n",
      "v -19.976655960083008 -59.979801177978516 -59.316341400146484\n",
      "\n",
      "v -19.378978729248047 -60.38523483276367 -60.1329231262207\n",
      "\n",
      "v -19.00503158569336 -60.913883209228516 -61.130306243896484\n",
      "\n",
      "v -19.308809280395508 -61.486026763916016 -62.748111724853516\n",
      "\n",
      "v -19.908855438232422 -62.100059509277344 -63.907588958740234\n",
      "\n",
      "v -20.325572967529297 -62.57781982421875 -64.8173828125\n",
      "\n",
      "v -20.687665939331055 -63.082000732421875 -65.64983367919922\n",
      "\n",
      "v -20.993959426879883 -63.47278594970703 -66.35446166992188\n",
      "\n",
      "v -21.253070831298828 -63.98068618774414 -67.25812530517578\n",
      "\n",
      "v -21.18873405456543 -64.63671112060547 -68.35346221923828\n",
      "\n",
      "v -20.719924926757812 -64.95775604248047 -69.83342742919922\n",
      "\n",
      "\n",
      "\n",
      "g grp1\n",
      "\n",
      "usemtl mtl1\n",
      "\n",
      "l 1 2 3 4 5 6 7 8 9 10 11 12 13 14 15 16 17 18 \n",
      "\n"
     ]
    }
   ],
   "source": [
    "fileObj = open(\"centerlines/ArteryObjAN1-4-network.obj\")\n",
    "grafo = calcularMatriz(fileObj, \"radius/ArteryObjAN1-4-radiusbis.npy\")\n",
    "\n",
    "#nx.number_connected_components(grafo)\n",
    "#print(grafo)\n",
    "#nx.write_gpickle(grafo, \"grafos/ArteryObjAN1-4-grafo\")\n",
    "\n",
    "with open('grafos/ArteryObjAN1-4-grafob.gpickle', 'wb') as f:\n",
    "    pickle.dump(grafo, f, pickle.HIGHEST_PROTOCOL)"
   ]
  }
 ],
 "metadata": {
  "kernelspec": {
   "display_name": "Python 3.10.4 ('geometric')",
   "language": "python",
   "name": "python3"
  },
  "language_info": {
   "codemirror_mode": {
    "name": "ipython",
    "version": 3
   },
   "file_extension": ".py",
   "mimetype": "text/x-python",
   "name": "python",
   "nbconvert_exporter": "python",
   "pygments_lexer": "ipython3",
   "version": "3.10.4"
  },
  "vscode": {
   "interpreter": {
    "hash": "9f6c48ea69a596211c2aee6f11fc9c668684aa4eb1e2923c0e3344a55fac3eee"
   }
  }
 },
 "nbformat": 4,
 "nbformat_minor": 2
}
