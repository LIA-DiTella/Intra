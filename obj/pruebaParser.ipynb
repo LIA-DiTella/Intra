{
 "cells": [
  {
   "cell_type": "code",
   "execution_count": 1,
   "metadata": {},
   "outputs": [],
   "source": [
    "from parseObj import calcularMatriz, calcularGrafoYArbol\n",
    "import numpy as np\n",
    "import networkx as nx"
   ]
  },
  {
   "cell_type": "code",
   "execution_count": 2,
   "metadata": {},
   "outputs": [],
   "source": [
    "import pickle"
   ]
  },
  {
   "cell_type": "code",
   "execution_count": 6,
   "metadata": {},
   "outputs": [
    {
     "ename": "FileNotFoundError",
     "evalue": "[Errno 2] No such file or directory: 'centerlines/ArteryObjAN1-0-network'",
     "output_type": "error",
     "traceback": [
      "\u001b[1;31m---------------------------------------------------------------------------\u001b[0m",
      "\u001b[1;31mFileNotFoundError\u001b[0m                         Traceback (most recent call last)",
      "\u001b[1;32mc:\\Users\\User\\Documents\\repo\\Intra\\obj\\pruebaParser.ipynb Celda 3\u001b[0m in \u001b[0;36m<cell line: 2>\u001b[1;34m()\u001b[0m\n\u001b[0;32m      <a href='vscode-notebook-cell:/c%3A/Users/User/Documents/repo/Intra/obj/pruebaParser.ipynb#ch0000002?line=0'>1</a>\u001b[0m filename \u001b[39m=\u001b[39m \u001b[39m'\u001b[39m\u001b[39mArteryObjAN1-0\u001b[39m\u001b[39m'\u001b[39m\n\u001b[1;32m----> <a href='vscode-notebook-cell:/c%3A/Users/User/Documents/repo/Intra/obj/pruebaParser.ipynb#ch0000002?line=1'>2</a>\u001b[0m fileObj \u001b[39m=\u001b[39m \u001b[39mopen\u001b[39;49m(\u001b[39m\"\u001b[39;49m\u001b[39mcenterlines/ArteryObjAN1-0-network\u001b[39;49m\u001b[39m\"\u001b[39;49m)\n\u001b[0;32m      <a href='vscode-notebook-cell:/c%3A/Users/User/Documents/repo/Intra/obj/pruebaParser.ipynb#ch0000002?line=2'>3</a>\u001b[0m fileObj \u001b[39m=\u001b[39m \u001b[39mopen\u001b[39m(\u001b[39m\"\u001b[39m\u001b[39mcenterlines/\u001b[39m\u001b[39m\"\u001b[39m \u001b[39m+\u001b[39mfilename \u001b[39m+\u001b[39m\u001b[39m\"\u001b[39m\u001b[39m-network.obj\u001b[39m\u001b[39m\"\u001b[39m)\n\u001b[0;32m      <a href='vscode-notebook-cell:/c%3A/Users/User/Documents/repo/Intra/obj/pruebaParser.ipynb#ch0000002?line=3'>4</a>\u001b[0m grafo \u001b[39m=\u001b[39m calcularMatriz(fileObj, \u001b[39m\"\u001b[39m\u001b[39mradius/\u001b[39m\u001b[39m\"\u001b[39m \u001b[39m+\u001b[39m filename \u001b[39m+\u001b[39m \u001b[39m\"\u001b[39m\u001b[39m-radius.npy\u001b[39m\u001b[39m\"\u001b[39m)\n",
      "\u001b[1;31mFileNotFoundError\u001b[0m: [Errno 2] No such file or directory: 'centerlines/ArteryObjAN1-0-network'"
     ]
    }
   ],
   "source": [
    "filename = 'ArteryObjAN1-0'\n",
    "fileObj = open(\"/centerlines/ArteryObjAN1-0-network\")\n",
    "fileObj = open(\"centerlines/\" +filename +\"-network.obj\")\n",
    "grafo = calcularMatriz(fileObj, \"radius/\" + filename + \"-radius.npy\")\n",
    "\n",
    "#nx.number_connected_components(grafo)\n",
    "#print(grafo)\n",
    "#nx.write_gpickle(grafo, \"grafos/ArteryObjAN1-4-grafo\")\n",
    "\n",
    "with open(\"grafos/\" + filename + '-grafo.gpickle', 'wb') as f:\n",
    "    pickle.dump(grafo, f, pickle.HIGHEST_PROTOCOL)"
   ]
  }
 ],
 "metadata": {
  "kernelspec": {
   "display_name": "Python 3.10.4 ('py_torc')",
   "language": "python",
   "name": "python3"
  },
  "language_info": {
   "codemirror_mode": {
    "name": "ipython",
    "version": 3
   },
   "file_extension": ".py",
   "mimetype": "text/x-python",
   "name": "python",
   "nbconvert_exporter": "python",
   "pygments_lexer": "ipython3",
   "version": "3.10.4"
  },
  "vscode": {
   "interpreter": {
    "hash": "8f3e717cd274da89498094fde320e6eab1bf0f52911d27cf47473187acb3fe8a"
   }
  }
 },
 "nbformat": 4,
 "nbformat_minor": 2
}
