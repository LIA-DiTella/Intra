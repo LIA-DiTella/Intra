{
 "cells": [
  {
   "cell_type": "code",
   "execution_count": 1,
   "metadata": {},
   "outputs": [],
   "source": [
    "from parseObj import calcularMatriz, calcularGrafoYArbol\n",
    "import numpy as np\n",
    "import networkx as nx"
   ]
  },
  {
   "cell_type": "code",
   "execution_count": 2,
   "metadata": {},
   "outputs": [],
   "source": [
    "import pickle"
   ]
  },
  {
   "cell_type": "code",
   "execution_count": 3,
   "metadata": {},
   "outputs": [],
   "source": [
    "fileObj = open(\"centerlines/ArteryObjAN1-0-network.obj\")\n",
    "grafo = calcularMatriz(fileObj, \"radius/ArteryObjAN1-0-radius.npy\")\n",
    "\n",
    "#nx.number_connected_components(grafo)\n",
    "#print(grafo)\n",
    "#nx.write_gpickle(grafo, \"grafos/ArteryObjAN1-4-grafo\")\n",
    "\n",
    "with open('grafos/ArteryObjAN1-0-grafo.gpickle', 'wb') as f:\n",
    "    pickle.dump(grafo, f, pickle.HIGHEST_PROTOCOL)"
   ]
  }
 ],
 "metadata": {
  "kernelspec": {
   "display_name": "Python 3.10.4 ('py_torc')",
   "language": "python",
   "name": "python3"
  },
  "language_info": {
   "codemirror_mode": {
    "name": "ipython",
    "version": 3
   },
   "file_extension": ".py",
   "mimetype": "text/x-python",
   "name": "python",
   "nbconvert_exporter": "python",
   "pygments_lexer": "ipython3",
   "version": "3.10.4"
  },
  "vscode": {
   "interpreter": {
    "hash": "8f3e717cd274da89498094fde320e6eab1bf0f52911d27cf47473187acb3fe8a"
   }
  }
 },
 "nbformat": 4,
 "nbformat_minor": 2
}
