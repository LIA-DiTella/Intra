{
 "cells": [
  {
   "cell_type": "code",
   "execution_count": 1,
   "metadata": {},
   "outputs": [
    {
     "name": "stderr",
     "output_type": "stream",
     "text": [
      "c:\\Users\\User\\anaconda3\\envs\\py_torc\\lib\\site-packages\\tqdm\\auto.py:22: TqdmWarning: IProgress not found. Please update jupyter and ipywidgets. See https://ipywidgets.readthedocs.io/en/stable/user_install.html\n",
      "  from .autonotebook import tqdm as notebook_tqdm\n"
     ]
    },
    {
     "ename": "ImportError",
     "evalue": "cannot import name 'Variabl' from 'torch.autograd' (c:\\Users\\User\\anaconda3\\envs\\py_torc\\lib\\site-packages\\torch\\autograd\\__init__.py)",
     "output_type": "error",
     "traceback": [
      "\u001b[1;31m---------------------------------------------------------------------------\u001b[0m",
      "\u001b[1;31mImportError\u001b[0m                               Traceback (most recent call last)",
      "\u001b[1;32mc:\\Users\\User\\Documents\\repo\\Intra\\autoencoder\\aen.ipynb Celda 1\u001b[0m in \u001b[0;36m<cell line: 6>\u001b[1;34m()\u001b[0m\n\u001b[0;32m      <a href='vscode-notebook-cell:/c%3A/Users/User/Documents/repo/Intra/autoencoder/aen.ipynb#W0sZmlsZQ%3D%3D?line=3'>4</a>\u001b[0m \u001b[39mimport\u001b[39;00m \u001b[39mtorch\u001b[39;00m\n\u001b[0;32m      <a href='vscode-notebook-cell:/c%3A/Users/User/Documents/repo/Intra/autoencoder/aen.ipynb#W0sZmlsZQ%3D%3D?line=4'>5</a>\u001b[0m \u001b[39mfrom\u001b[39;00m \u001b[39mtorch\u001b[39;00m \u001b[39mimport\u001b[39;00m nn\n\u001b[1;32m----> <a href='vscode-notebook-cell:/c%3A/Users/User/Documents/repo/Intra/autoencoder/aen.ipynb#W0sZmlsZQ%3D%3D?line=5'>6</a>\u001b[0m \u001b[39mfrom\u001b[39;00m \u001b[39mtorch\u001b[39;00m\u001b[39m.\u001b[39;00m\u001b[39mautograd\u001b[39;00m \u001b[39mimport\u001b[39;00m Variabl\n",
      "\u001b[1;31mImportError\u001b[0m: cannot import name 'Variabl' from 'torch.autograd' (c:\\Users\\User\\anaconda3\\envs\\py_torc\\lib\\site-packages\\torch\\autograd\\__init__.py)"
     ]
    }
   ],
   "source": [
    "import pickle\n",
    "import networkx as nx\n",
    "import matplotlib.pyplot as plt\n",
    "import torch\n",
    "from torch import nn\n",
    "from torch.autograd import Variabl"
   ]
  },
  {
   "cell_type": "code",
   "execution_count": null,
   "metadata": {},
   "outputs": [
    {
     "name": "stdout",
     "output_type": "stream",
     "text": [
      "Graph with 63 nodes and 62 edges\n",
      "Vec3(x=13.5786, y=-51.5181, z=-49.7241)\n",
      "  (0, 1)\t1\n",
      "  (1, 0)\t1\n",
      "  (1, 2)\t1\n",
      "  (2, 1)\t1\n",
      "  (2, 3)\t1\n",
      "  (3, 2)\t1\n",
      "  (3, 4)\t1\n",
      "  (4, 3)\t1\n",
      "  (4, 5)\t1\n",
      "  (5, 4)\t1\n",
      "  (5, 6)\t1\n",
      "  (6, 5)\t1\n",
      "  (6, 7)\t1\n",
      "  (7, 6)\t1\n",
      "  (7, 8)\t1\n",
      "  (8, 7)\t1\n",
      "  (8, 9)\t1\n",
      "  (9, 8)\t1\n",
      "  (9, 10)\t1\n"
     ]
    },
    {
     "name": "stderr",
     "output_type": "stream",
     "text": [
      "C:\\Users\\User\\AppData\\Local\\Temp\\ipykernel_5636\\1376783331.py:9: FutureWarning: adjacency_matrix will return a scipy.sparse array instead of a matrix in Networkx 3.0.\n",
      "  adjacency = nx.adjacency_matrix(grafo)\n"
     ]
    },
    {
     "data": {
      "image/png": "[encoded data removed]",
      "text/plain": [
       "<Figure size 432x288 with 1 Axes>"
      ]
     },
     "metadata": {},
     "output_type": "display_data"
    }
   ],
   "source": [
    "filename = \"ArteryObjAN1-0\"\n",
    "\n",
    "grafo = pickle.load(open(filename + '-grafo.gpickle', 'rb'))\n",
    "print(grafo)\n",
    "nx.draw(grafo)\n",
    "a = nx.get_node_attributes(grafo, 'posicion')\n",
    "print(a[0])\n",
    "\n",
    "adjacency = nx.adjacency_matrix(grafo)\n",
    "print(adjacency[0:10])"
   ]
  },
  {
   "cell_type": "markdown",
   "metadata": {},
   "source": [
    "Dataloader"
   ]
  },
  {
   "cell_type": "code",
   "execution_count": null,
   "metadata": {},
   "outputs": [],
   "source": []
  },
  {
   "cell_type": "markdown",
   "metadata": {},
   "source": [
    "Autoencoder"
   ]
  },
  {
   "cell_type": "code",
   "execution_count": null,
   "metadata": {},
   "outputs": [],
   "source": [
    "class Encoder(nn.Module):\n",
    "    \n",
    "    def __init__(self, input_size, feature_size):\n",
    "        super(Encoder, self).__init__()\n",
    "        self.encoder = nn.Linear(input_size, feature_size)\n",
    "        self.tanh = nn.Tanh()\n",
    "\n",
    "    def forward(self, box_input):\n",
    "        box_vector = self.encoder(box_input)\n",
    "        box_vector = self.tanh(box_vector)\n",
    "        return box_vector"
   ]
  },
  {
   "cell_type": "code",
   "execution_count": null,
   "metadata": {},
   "outputs": [],
   "source": [
    "class GRASSEncoder(nn.Module):\n",
    "    \n",
    "    def __init__(self, config):\n",
    "        super(GRASSEncoder, self).__init__()\n",
    "        self.encoder = Encoder(input_size = config.box_code_size, feature_size = config.feature_size)\n",
    "        \n",
    "    def Encoder(self, box):\n",
    "        return self.encoder(box)\n",
    "\n",
    "\n",
    "def encode_structure_fold(fold, tree):#que es tree, que es node\n",
    "\n",
    "    def encode_node(node):\n",
    "        \n",
    "        return fold.add('boxEncoder', node.box)\n",
    "        \n",
    "\n",
    "    encoding = encode_node(tree.root)\n",
    "    return fold.add('sampleEncoder', encoding)"
   ]
  },
  {
   "cell_type": "markdown",
   "metadata": {},
   "source": [
    "Loop de entrenamiento"
   ]
  },
  {
   "cell_type": "code",
   "execution_count": null,
   "metadata": {},
   "outputs": [],
   "source": [
    "train_iter = torch.utils.data.DataLoader(data, batch_size=batch_size, shuffle=True, collate_fn=my_collate)"
   ]
  },
  {
   "cell_type": "code",
   "execution_count": null,
   "metadata": {},
   "outputs": [],
   "source": [
    "encoder = GRASSEncoder()\n",
    "encoder_opt = torch.optim.Adam(encoder.parameters(), lr=1e-3)"
   ]
  },
  {
   "cell_type": "code",
   "execution_count": null,
   "metadata": {},
   "outputs": [],
   "source": [
    "box_code_size = default=12\n",
    "feature_size=80\n",
    "hidden_size=200\n",
    "symmetry_size=8\n",
    "max_box_num=30\n",
    "max_sym_num=10\n",
    "epochs=300\n",
    "batch_size=123\n",
    "show_log_every=3\n",
    "save_log=False\n",
    "save_log_every=3\n",
    "save_snapshot=False\n",
    "save_snapshot_every=5\n",
    "no_plot=False\n",
    "lr=.001\n",
    "lr_decay_by=1\n",
    "lr_decay_every=1\n",
    "\n",
    "no_cuda=False\n",
    "gpu=0\n",
    "data_path='data'\n",
    "save_path='models'\n",
    "resume_snapshot=''"
   ]
  },
  {
   "cell_type": "code",
   "execution_count": null,
   "metadata": {},
   "outputs": [],
   "source": [
    "\n",
    "for epoch in range(epochs):\n",
    "    \n",
    "    for batch_idx, batch in enumerate(train_iter):\n",
    "        # Initialize torchfold for *encoding*\n",
    "        enc_fold = FoldExt(cuda=config.cuda) #foldext esta definido por ellos, todavia no entendi, creo que lo definen ellos pq trorch fold no soporta batch\n",
    "        enc_fold_nodes = []     # list of fold nodes for encoding\n",
    "        # Collect computation nodes recursively from encoding process\n",
    "        for example in batch:\n",
    "            enc_fold_nodes.append(encode_structure_fold(enc_fold, example))\n",
    "        # Apply the computations on the encoder model\n",
    "        enc_fold_nodes = enc_fold.apply(encoder, [enc_fold_nodes])\n",
    "        # Split into a list of fold nodes per example\n",
    "        enc_fold_nodes = torch.split(enc_fold_nodes[0], 1, 0)\n",
    "        # Initialize torchfold for *decoding*\n",
    "        dec_fold = FoldExt(cuda=config.cuda)\n",
    "        # Collect computation nodes recursively from decoding process\n",
    "        dec_fold_nodes = []\n",
    "        kld_fold_nodes = []\n",
    "        for example, fnode in zip(batch, enc_fold_nodes):\n",
    "            root_code, kl_div = torch.chunk(fnode, 2, 1)\n",
    "            dec_fold_nodes.append(grassmodel.decode_structure_fold(dec_fold, root_code, example))\n",
    "            kld_fold_nodes.append(kl_div)\n",
    "        # Apply the computations on the decoder model\n",
    "        total_loss = dec_fold.apply(decoder, [dec_fold_nodes, kld_fold_nodes])\n",
    "            # the first dim of total_loss is for reconstruction and the second for KL divergence\n",
    "        recon_loss = total_loss[0].sum() / len(batch)               # avg. reconstruction loss per example\n",
    "        kldiv_loss = total_loss[1].sum().mul(-0.05) / len(batch)    # avg. KL divergence loss per example\n",
    "        total_loss = recon_loss + kldiv_loss\n",
    "        # Do parameter optimization\n",
    "        encoder_opt.zero_grad()\n",
    "        decoder_opt.zero_grad()\n",
    "        total_loss.backward()\n",
    "        encoder_opt.step()\n",
    "        decoder_opt.step()\n",
    "        # Report statistics\n",
    "        if batch_idx % config.show_log_every == 0:\n",
    "            print(log_template.format(strftime(\"%H:%M:%S\",time.gmtime(time.time()-start)),\n",
    "                epoch, config.epochs, 1+batch_idx, len(train_iter),\n",
    "                100. * (1+batch_idx+len(train_iter)*epoch) / (len(train_iter)*config.epochs),\n",
    "                recon_loss.data[0], kldiv_loss.data[0], total_loss.data[0]))\n",
    "       \n",
    "\n",
    "    # Save training log\n",
    "    if config.save_log and (epoch+1) % config.save_log_every == 0 :\n",
    "        fd_log = open('training_log.log', mode='a')\n",
    "        fd_log.write('\\nepoch:{} recon_loss:{:.2f} kld_loss:{:.2f} total_loss:{:.2f}'.format(epoch+1, recon_loss.data[0], kldiv_loss.data[0], total_loss.data[0]))\n",
    "        fd_log.close()\n",
    "\n",
    "# Save the final models\n",
    "print(\"Saving final models ...... \", end='', flush=True)\n",
    "torch.save(encoder, config.save_path+'//vae_encoder_model.pkl')\n",
    "torch.save(decoder, config.save_path+'//vae_decoder_model.pkl')\n",
    "print(\"DONE\")"
   ]
  }
 ],
 "metadata": {
  "kernelspec": {
   "display_name": "Python 3.10.4 ('py_torc')",
   "language": "python",
   "name": "python3"
  },
  "language_info": {
   "codemirror_mode": {
    "name": "ipython",
    "version": 3
   },
   "file_extension": ".py",
   "mimetype": "text/x-python",
   "name": "python",
   "nbconvert_exporter": "python",
   "pygments_lexer": "ipython3",
   "version": "3.10.4"
  },
  "orig_nbformat": 4,
  "vscode": {
   "interpreter": {
    "hash": "8f3e717cd274da89498094fde320e6eab1bf0f52911d27cf47473187acb3fe8a"
   }
  }
 },
 "nbformat": 4,
 "nbformat_minor": 2
}
