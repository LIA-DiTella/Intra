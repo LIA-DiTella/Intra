{
 "cells": [
  {
   "cell_type": "code",
   "execution_count": 885,
   "metadata": {},
   "outputs": [],
   "source": [
    "import numpy as np\n",
    "import networkx as nx\n",
    "import meshplot as mp\n",
    "from copy import deepcopy"
   ]
  },
  {
   "cell_type": "code",
   "execution_count": 886,
   "metadata": {},
   "outputs": [],
   "source": [
    "class Node:\n",
    "    \"\"\"\n",
    "    Class Node\n",
    "    \"\"\"\n",
    "    def __init__(self, value, radius = None, left = None, right = None, position = None, cl_prob= None, ce = None, mse = None):\n",
    "        self.left = left\n",
    "        self.data = value\n",
    "        self.radius = radius\n",
    "        self.position = position\n",
    "        self.right = right\n",
    "        self.prob = cl_prob\n",
    "        self.mse = mse\n",
    "        self.ce = ce\n",
    "        self.children = [self.left, self.right]\n",
    "    \n",
    "    def traverseInorder(self, root):\n",
    "        \"\"\"\n",
    "        traverse function will print all the node in the tree.\n",
    "        \"\"\"\n",
    "        if root is not None:\n",
    "            self.traverseInorder(root.left)\n",
    "            print (root.data, root.radius)\n",
    "            self.traverseInorder(root.right)\n",
    "\n",
    "    def height(self, root):\n",
    "        # Check if the binary tree is empty\n",
    "        if root is None:\n",
    "            return 0 \n",
    "        # Recursively call height of each node\n",
    "        leftAns = self.height(root.left)\n",
    "        rightAns = self.height(root.right)\n",
    "    \n",
    "        # Return max(leftHeight, rightHeight) at each iteration\n",
    "        return max(leftAns, rightAns) + 1\n",
    "\n",
    "    def serialize(self, root):\n",
    "        def post_order(root):\n",
    "            if root:\n",
    "                post_order(root.left)\n",
    "                post_order(root.right)\n",
    "                ret[0] += str(root.data)+'_'+ str(root.radius) +';'\n",
    "                \n",
    "            else:\n",
    "                ret[0] += '#;'           \n",
    "\n",
    "        ret = ['']\n",
    "        post_order(root)\n",
    "        return ret[0][:-1]  # remove last ,\n",
    "    def toGraph( self, graph, index, dec, proc=True):\n",
    "        \n",
    "        \n",
    "        radius = np.array(self.radius)\n",
    "        if dec:\n",
    "            radius= radius[0]\n",
    "        #print(\"posicion\", self.data, radius)\n",
    "        #print(\"right\", self.right)\n",
    "        \n",
    "        #graph.add_nodes_from( [ (index, {'posicion': radius[0:3], 'radio': radius[3] } ) ])\n",
    "        graph.add_nodes_from( [ (self.data, {'posicion': radius[0:3], 'radio': radius[3] } ) ])\n",
    "        \n",
    "\n",
    "        if self.right is not None:\n",
    "            #leftIndex = self.right.toGraph( graph, index + 1, dec)#\n",
    "            self.right.toGraph( graph, index + 1, dec)#\n",
    "            \n",
    "            #graph.add_edge( index, index + 1 )\n",
    "            graph.add_edge( self.data, self.right.data )\n",
    "            #if proc:\n",
    "            #    nx.set_edge_attributes( graph, {(index, index+1) : {'procesada':False}})\n",
    "        \n",
    "        if self.left is not None:\n",
    "            #retIndex = self.left.toGraph( graph, leftIndex, dec )#\n",
    "            self.left.toGraph( graph, 0, dec )#\n",
    "\n",
    "            #graph.add_edge( index, leftIndex)\n",
    "            graph.add_edge( self.data, self.left.data)\n",
    "            #if proc:\n",
    "            #    nx.set_edge_attributes( graph, {(index, leftIndex) : {'procesada':False}})\n",
    "            \n",
    "        #else:\n",
    "            #return leftIndex\n",
    "        #    return\n",
    "\n",
    "        else:\n",
    "            #return index + 1\n",
    "            return"
   ]
  },
  {
   "cell_type": "code",
   "execution_count": 887,
   "metadata": {},
   "outputs": [],
   "source": [
    "def plotTree( root, dec ):\n",
    "    graph = nx.Graph()\n",
    "    root.toGraph( graph, 0, dec)\n",
    "    edges=nx.get_edge_attributes(graph,'procesada')\n",
    "\n",
    "    p = mp.plot( np.array([ graph.nodes[v]['posicion'] for v in graph.nodes]), shading={'point_size':0.1}, return_plot=True)\n",
    "\n",
    "    for arista in graph.edges:\n",
    "        p.add_lines( graph.nodes[arista[0]]['posicion'], graph.nodes[arista[1]]['posicion'])\n",
    "\n",
    "    return "
   ]
  },
  {
   "cell_type": "code",
   "execution_count": 888,
   "metadata": {},
   "outputs": [],
   "source": [
    "def getCountAtLevel (node, curr, desired, n):\n",
    "    # If this node doesn't exist, must be zero.\n",
    "    if node is None: \n",
    "        return 0\n",
    "\n",
    "    # If this node is at desired level, must be one.\n",
    "    if curr == desired: \n",
    "        n.append(node)\n",
    "        return n\n",
    "\n",
    "    # Otherwise sum of nodes at that level in left and right sub-trees.\n",
    "    getCountAtLevel (node.left,  curr+1, desired, n)\n",
    "    getCountAtLevel (node.right, curr+1, desired, n)\n",
    "    return n\n",
    "\n",
    "def numerar_nodos(root, count):\n",
    "    if root is not None:\n",
    "        root.data = len(count)\n",
    "        count.append(1)\n",
    "        numerar_nodos(root.right, count)\n",
    "        numerar_nodos(root.left, count)\n",
    "        #\n",
    "        \n",
    "        return \n",
    "\n",
    "def cr(root):\n",
    "    h = root.height(root)\n",
    "    for i in range(0, h):\n",
    "        n = []\n",
    "        #print(\"nodos en nivel \", i, getCountAtLevel(root, 0, i, n))\n",
    "        c = getCountAtLevel(root, 0, i, n)\n",
    "        #print(\"level\", i)\n",
    "        for j in range(len(c)):\n",
    "            #c[j].radius = [i*3.+j+i,i*3.-j,i*1.,i*1.]\n",
    "            #c[j].radius = [i*3.+j,i*1.+j,i*1.+j,i*1.]\n",
    "            x = i*4.+1.*j\n",
    "            y = i*1.+3.*j\n",
    "            z = i*2.+5.*j\n",
    "            r = i*1.\n",
    "            print(\"i,j\", i, j)\n",
    "            print(\"radius\", x,y,z,r)\n",
    "            c[j].radius = [x,y,z,r]"
   ]
  },
  {
   "cell_type": "code",
   "execution_count": 889,
   "metadata": {},
   "outputs": [],
   "source": [
    "def generarArbol( profundidad ):\n",
    "    \n",
    "    if profundidad == 0:\n",
    "        return [ None ]\n",
    "    elif profundidad == 1:\n",
    "        return [ Node( 4 ) ]\n",
    "    else:\n",
    "        subarboles = [ generarArbol(profundidad= n) for n in range(0, profundidad )]\n",
    "        res = [ ]\n",
    "        for grande in subarboles[-1]:\n",
    "            for s in subarboles[:-1]:\n",
    "                for chico in s:\n",
    "                    res.append( Node( 1, left = deepcopy(grande), right = deepcopy(chico) ) )\n",
    "                    res.append( Node( 2, left = deepcopy(chico), right = deepcopy(grande) ))\n",
    "        \n",
    "        for s_i in subarboles[-1]:\n",
    "            for s_d in subarboles[-1]:\n",
    "                res.append( Node(3, left = deepcopy(s_i), right = deepcopy(s_d)))\n",
    "\n",
    "        return res\n",
    "\n",
    "\n"
   ]
  },
  {
   "cell_type": "code",
   "execution_count": 890,
   "metadata": {},
   "outputs": [
    {
     "name": "stdout",
     "output_type": "stream",
     "text": [
      "21\n",
      "[3, 3, 3, 3, 3, 3, 3, 3, 3, 3, 3, 3, 3, 3, 3, 3, 3, 3, 3, 3, 3]\n"
     ]
    }
   ],
   "source": [
    "g = generarArbol( 3 )\n",
    "print(len(g) )\n",
    "print( [ n.height(n) for n in g if n is not None])"
   ]
  },
  {
   "cell_type": "code",
   "execution_count": 891,
   "metadata": {},
   "outputs": [
    {
     "name": "stdout",
     "output_type": "stream",
     "text": [
      "4 None\n",
      "3 None\n",
      "4 None\n",
      "3 None\n",
      "4 None\n",
      "1 None\n",
      "///\n",
      "5 None\n",
      "3 None\n",
      "4 None\n",
      "0 None\n",
      "2 None\n",
      "1 None\n",
      "///\n",
      "4\n"
     ]
    }
   ],
   "source": [
    "ar = g[18]\n",
    "ar.traverseInorder(ar)\n",
    "count = []\n",
    "numerar_nodos(ar, count)\n",
    "print(\"///\")\n",
    "ar.traverseInorder(ar)\n",
    "print(\"///\")\n",
    "print(ar.left.right.data)"
   ]
  },
  {
   "cell_type": "code",
   "execution_count": 892,
   "metadata": {},
   "outputs": [
    {
     "name": "stdout",
     "output_type": "stream",
     "text": [
      "i,j 0 0\n",
      "radius 0.0 0.0 0.0 0.0\n",
      "i,j 1 0\n",
      "radius 4.0 1.0 2.0 1.0\n",
      "i,j 2 0\n",
      "radius 8.0 2.0 4.0 2.0\n",
      "i,j 0 0\n",
      "radius 0.0 0.0 0.0 0.0\n",
      "i,j 1 0\n",
      "radius 4.0 1.0 2.0 1.0\n",
      "i,j 2 0\n",
      "radius 8.0 2.0 4.0 2.0\n",
      "i,j 0 0\n",
      "radius 0.0 0.0 0.0 0.0\n",
      "i,j 1 0\n",
      "radius 4.0 1.0 2.0 1.0\n",
      "i,j 1 1\n",
      "radius 5.0 4.0 7.0 1.0\n",
      "i,j 2 0\n",
      "radius 8.0 2.0 4.0 2.0\n",
      "i,j 0 0\n",
      "radius 0.0 0.0 0.0 0.0\n",
      "i,j 1 0\n",
      "radius 4.0 1.0 2.0 1.0\n",
      "i,j 1 1\n",
      "radius 5.0 4.0 7.0 1.0\n",
      "i,j 2 0\n",
      "radius 8.0 2.0 4.0 2.0\n",
      "i,j 0 0\n",
      "radius 0.0 0.0 0.0 0.0\n",
      "i,j 1 0\n",
      "radius 4.0 1.0 2.0 1.0\n",
      "i,j 2 0\n",
      "radius 8.0 2.0 4.0 2.0\n",
      "i,j 0 0\n",
      "radius 0.0 0.0 0.0 0.0\n",
      "i,j 1 0\n",
      "radius 4.0 1.0 2.0 1.0\n",
      "i,j 2 0\n",
      "radius 8.0 2.0 4.0 2.0\n",
      "i,j 0 0\n",
      "radius 0.0 0.0 0.0 0.0\n",
      "i,j 1 0\n",
      "radius 4.0 1.0 2.0 1.0\n",
      "i,j 1 1\n",
      "radius 5.0 4.0 7.0 1.0\n",
      "i,j 2 0\n",
      "radius 8.0 2.0 4.0 2.0\n",
      "i,j 0 0\n",
      "radius 0.0 0.0 0.0 0.0\n",
      "i,j 1 0\n",
      "radius 4.0 1.0 2.0 1.0\n",
      "i,j 1 1\n",
      "radius 5.0 4.0 7.0 1.0\n",
      "i,j 2 0\n",
      "radius 8.0 2.0 4.0 2.0\n",
      "i,j 0 0\n",
      "radius 0.0 0.0 0.0 0.0\n",
      "i,j 1 0\n",
      "radius 4.0 1.0 2.0 1.0\n",
      "i,j 2 0\n",
      "radius 8.0 2.0 4.0 2.0\n",
      "i,j 2 1\n",
      "radius 9.0 5.0 9.0 2.0\n",
      "i,j 0 0\n",
      "radius 0.0 0.0 0.0 0.0\n",
      "i,j 1 0\n",
      "radius 4.0 1.0 2.0 1.0\n",
      "i,j 2 0\n",
      "radius 8.0 2.0 4.0 2.0\n",
      "i,j 2 1\n",
      "radius 9.0 5.0 9.0 2.0\n",
      "i,j 0 0\n",
      "radius 0.0 0.0 0.0 0.0\n",
      "i,j 1 0\n",
      "radius 4.0 1.0 2.0 1.0\n",
      "i,j 1 1\n",
      "radius 5.0 4.0 7.0 1.0\n",
      "i,j 2 0\n",
      "radius 8.0 2.0 4.0 2.0\n",
      "i,j 2 1\n",
      "radius 9.0 5.0 9.0 2.0\n",
      "i,j 0 0\n",
      "radius 0.0 0.0 0.0 0.0\n",
      "i,j 1 0\n",
      "radius 4.0 1.0 2.0 1.0\n",
      "i,j 1 1\n",
      "radius 5.0 4.0 7.0 1.0\n",
      "i,j 2 0\n",
      "radius 8.0 2.0 4.0 2.0\n",
      "i,j 2 1\n",
      "radius 9.0 5.0 9.0 2.0\n",
      "i,j 0 0\n",
      "radius 0.0 0.0 0.0 0.0\n",
      "i,j 1 0\n",
      "radius 4.0 1.0 2.0 1.0\n",
      "i,j 1 1\n",
      "radius 5.0 4.0 7.0 1.0\n",
      "i,j 2 0\n",
      "radius 8.0 2.0 4.0 2.0\n",
      "i,j 2 1\n",
      "radius 9.0 5.0 9.0 2.0\n",
      "i,j 0 0\n",
      "radius 0.0 0.0 0.0 0.0\n",
      "i,j 1 0\n",
      "radius 4.0 1.0 2.0 1.0\n",
      "i,j 1 1\n",
      "radius 5.0 4.0 7.0 1.0\n",
      "i,j 2 0\n",
      "radius 8.0 2.0 4.0 2.0\n",
      "i,j 2 1\n",
      "radius 9.0 5.0 9.0 2.0\n",
      "i,j 0 0\n",
      "radius 0.0 0.0 0.0 0.0\n",
      "i,j 1 0\n",
      "radius 4.0 1.0 2.0 1.0\n",
      "i,j 1 1\n",
      "radius 5.0 4.0 7.0 1.0\n",
      "i,j 2 0\n",
      "radius 8.0 2.0 4.0 2.0\n",
      "i,j 2 1\n",
      "radius 9.0 5.0 9.0 2.0\n",
      "i,j 2 2\n",
      "radius 10.0 8.0 14.0 2.0\n",
      "i,j 0 0\n",
      "radius 0.0 0.0 0.0 0.0\n",
      "i,j 1 0\n",
      "radius 4.0 1.0 2.0 1.0\n",
      "i,j 1 1\n",
      "radius 5.0 4.0 7.0 1.0\n",
      "i,j 2 0\n",
      "radius 8.0 2.0 4.0 2.0\n",
      "i,j 2 1\n",
      "radius 9.0 5.0 9.0 2.0\n",
      "i,j 0 0\n",
      "radius 0.0 0.0 0.0 0.0\n",
      "i,j 1 0\n",
      "radius 4.0 1.0 2.0 1.0\n",
      "i,j 1 1\n",
      "radius 5.0 4.0 7.0 1.0\n",
      "i,j 2 0\n",
      "radius 8.0 2.0 4.0 2.0\n",
      "i,j 2 1\n",
      "radius 9.0 5.0 9.0 2.0\n",
      "i,j 0 0\n",
      "radius 0.0 0.0 0.0 0.0\n",
      "i,j 1 0\n",
      "radius 4.0 1.0 2.0 1.0\n",
      "i,j 1 1\n",
      "radius 5.0 4.0 7.0 1.0\n",
      "i,j 2 0\n",
      "radius 8.0 2.0 4.0 2.0\n",
      "i,j 2 1\n",
      "radius 9.0 5.0 9.0 2.0\n",
      "i,j 2 2\n",
      "radius 10.0 8.0 14.0 2.0\n",
      "i,j 0 0\n",
      "radius 0.0 0.0 0.0 0.0\n",
      "i,j 1 0\n",
      "radius 4.0 1.0 2.0 1.0\n",
      "i,j 1 1\n",
      "radius 5.0 4.0 7.0 1.0\n",
      "i,j 2 0\n",
      "radius 8.0 2.0 4.0 2.0\n",
      "i,j 2 1\n",
      "radius 9.0 5.0 9.0 2.0\n",
      "i,j 2 2\n",
      "radius 10.0 8.0 14.0 2.0\n",
      "i,j 0 0\n",
      "radius 0.0 0.0 0.0 0.0\n",
      "i,j 1 0\n",
      "radius 4.0 1.0 2.0 1.0\n",
      "i,j 1 1\n",
      "radius 5.0 4.0 7.0 1.0\n",
      "i,j 2 0\n",
      "radius 8.0 2.0 4.0 2.0\n",
      "i,j 2 1\n",
      "radius 9.0 5.0 9.0 2.0\n",
      "i,j 2 2\n",
      "radius 10.0 8.0 14.0 2.0\n",
      "i,j 0 0\n",
      "radius 0.0 0.0 0.0 0.0\n",
      "i,j 1 0\n",
      "radius 4.0 1.0 2.0 1.0\n",
      "i,j 1 1\n",
      "radius 5.0 4.0 7.0 1.0\n",
      "i,j 2 0\n",
      "radius 8.0 2.0 4.0 2.0\n",
      "i,j 2 1\n",
      "radius 9.0 5.0 9.0 2.0\n",
      "i,j 2 2\n",
      "radius 10.0 8.0 14.0 2.0\n",
      "i,j 2 3\n",
      "radius 11.0 11.0 19.0 2.0\n"
     ]
    }
   ],
   "source": [
    "for i in range (len(g)):\n",
    "    arbol = g[i]\n",
    "    count = []\n",
    "    #print(\"antes de numerar\")\n",
    "    #arbol.traverseInorder(arbol)\n",
    "    numerar_nodos(arbol, count)\n",
    "    #print(\"despues de numerar\")\n",
    "    #arbol.traverseInorder(arbol)\n",
    "    cr (arbol)\n",
    "    #print(\"con radio\")\n",
    "    #arbol.traverseInorder(arbol)\n",
    "    serial = arbol.serialize(arbol)\n",
    "    #print(\"serialized\", serial)\n",
    "    #write serialized string to file\n",
    "    file = open(\"./Trees/prof3/tree\" + str(i) +\".dat\", \"w\")\n",
    "    file.write(serial)\n",
    "    file.close() \n"
   ]
  },
  {
   "cell_type": "code",
   "execution_count": 893,
   "metadata": {},
   "outputs": [],
   "source": [
    "def generarArbolRandom( profundidad, proba ):\n",
    "    \n",
    "    raiz = Node(1, left = None, right = None)\n",
    "    cola = [ (raiz, profundidad) ]\n",
    "\n",
    "    while len(cola) != 0:\n",
    "        nodoActual, n = cola.pop(0)\n",
    "\n",
    "        if n == 1:\n",
    "            continue\n",
    "        else:\n",
    "            hijo1 = Node(1, left = None, right = None) if np.random.rand() > proba else None\n",
    "            hijo2 = Node(1, left = None, right = None) if np.random.rand() > proba else None\n",
    "\n",
    "            if hijo1 is None and hijo2 is None:\n",
    "                if np.random.rand() > 0.5:\n",
    "                    hijo1 = Node(1, left = None, right = None)\n",
    "                else:\n",
    "                    hijo2 = Node(1, left = None, right = None)\n",
    "\n",
    "            nodoActual.left = hijo1\n",
    "            nodoActual.right = hijo2\n",
    "\n",
    "            [ cola.append( (hijo, n - 1)) for hijo in [hijo1, hijo2] if hijo is not None ]\n",
    "\n",
    "    return raiz"
   ]
  },
  {
   "cell_type": "code",
   "execution_count": 894,
   "metadata": {},
   "outputs": [],
   "source": [
    "root = generarArbolRandom(4, 0.7)"
   ]
  },
  {
   "cell_type": "code",
   "execution_count": 895,
   "metadata": {},
   "outputs": [
    {
     "name": "stdout",
     "output_type": "stream",
     "text": [
      "2 None\n",
      "3 None\n",
      "1 None\n",
      "0 None\n"
     ]
    }
   ],
   "source": [
    "count = []\n",
    "numerar_nodos(root, count)\n",
    "root.traverseInorder(root)"
   ]
  },
  {
   "cell_type": "code",
   "execution_count": 896,
   "metadata": {},
   "outputs": [
    {
     "name": "stdout",
     "output_type": "stream",
     "text": [
      "i,j 0 0\n",
      "radius 0.0 0.0 0.0 0.0\n",
      "i,j 1 0\n",
      "radius 4.0 1.0 2.0 1.0\n",
      "i,j 2 0\n",
      "radius 8.0 2.0 4.0 2.0\n",
      "i,j 3 0\n",
      "radius 12.0 3.0 6.0 3.0\n"
     ]
    }
   ],
   "source": [
    "cr (root)"
   ]
  },
  {
   "cell_type": "code",
   "execution_count": 897,
   "metadata": {},
   "outputs": [
    {
     "name": "stdout",
     "output_type": "stream",
     "text": [
      "2 [8.0, 2.0, 4.0, 2.0]\n",
      "3 [12.0, 3.0, 6.0, 3.0]\n",
      "1 [4.0, 1.0, 2.0, 1.0]\n",
      "0 [0.0, 0.0, 0.0, 0.0]\n"
     ]
    }
   ],
   "source": [
    "root.traverseInorder(root)"
   ]
  },
  {
   "cell_type": "code",
   "execution_count": 898,
   "metadata": {},
   "outputs": [
    {
     "data": {
      "application/vnd.jupyter.widget-view+json": {
       "model_id": "6ce90ca32823469ca97dd0321487d3f6",
       "version_major": 2,
       "version_minor": 0
      },
      "text/plain": [
       "Renderer(camera=PerspectiveCamera(children=(DirectionalLight(color='white', intensity=0.6, position=(6.0, 1.5,…"
      ]
     },
     "metadata": {},
     "output_type": "display_data"
    }
   ],
   "source": [
    "plotTree(root, False)"
   ]
  },
  {
   "cell_type": "code",
   "execution_count": 899,
   "metadata": {},
   "outputs": [
    {
     "data": {
      "application/vnd.jupyter.widget-view+json": {
       "model_id": "81686c41d58c4288bfa2c105b589041a",
       "version_major": 2,
       "version_minor": 0
      },
      "text/plain": [
       "Renderer(camera=PerspectiveCamera(children=(DirectionalLight(color='white', intensity=0.6, position=(4.5, 2.5,…"
      ]
     },
     "metadata": {},
     "output_type": "display_data"
    }
   ],
   "source": [
    "plotTree(g[10], False)"
   ]
  },
  {
   "cell_type": "code",
   "execution_count": 900,
   "metadata": {},
   "outputs": [
    {
     "name": "stdout",
     "output_type": "stream",
     "text": [
      "3 [8.0, 2.0, 4.0, 2.0]\n",
      "1 [4.0, 1.0, 2.0, 1.0]\n",
      "2 [9.0, 5.0, 9.0, 2.0]\n",
      "0 [0.0, 0.0, 0.0, 0.0]\n"
     ]
    }
   ],
   "source": [
    "g[8].traverseInorder(g[8])"
   ]
  },
  {
   "cell_type": "code",
   "execution_count": 901,
   "metadata": {},
   "outputs": [
    {
     "name": "stdout",
     "output_type": "stream",
     "text": [
      "0 [0.0, 0.0, 0.0, 0.0]\n",
      "3 [8.0, 2.0, 4.0, 2.0]\n",
      "1 [4.0, 1.0, 2.0, 1.0]\n",
      "2 [9.0, 5.0, 9.0, 2.0]\n"
     ]
    }
   ],
   "source": [
    "g[9].traverseInorder(g[9])"
   ]
  },
  {
   "cell_type": "code",
   "execution_count": 902,
   "metadata": {},
   "outputs": [
    {
     "data": {
      "text/plain": [
       "1"
      ]
     },
     "execution_count": 902,
     "metadata": {},
     "output_type": "execute_result"
    }
   ],
   "source": [
    "g[10].right.data\n"
   ]
  },
  {
   "cell_type": "code",
   "execution_count": 903,
   "metadata": {},
   "outputs": [
    {
     "name": "stdout",
     "output_type": "stream",
     "text": [
      "4 [8.0, 2.0, 4.0, 2.0]\n",
      "2 [4.0, 1.0, 2.0, 1.0]\n",
      "3 [9.0, 5.0, 9.0, 2.0]\n",
      "0 [0.0, 0.0, 0.0, 0.0]\n",
      "1 [5.0, 4.0, 7.0, 1.0]\n"
     ]
    }
   ],
   "source": [
    "g[10].right.left\n",
    "g[10].traverseInorder(g[10])"
   ]
  }
 ],
 "metadata": {
  "kernelspec": {
   "display_name": "Python 3.10.4 ('py_torc')",
   "language": "python",
   "name": "python3"
  },
  "language_info": {
   "codemirror_mode": {
    "name": "ipython",
    "version": 3
   },
   "file_extension": ".py",
   "mimetype": "text/x-python",
   "name": "python",
   "nbconvert_exporter": "python",
   "pygments_lexer": "ipython3",
   "version": "3.10.4"
  },
  "orig_nbformat": 4,
  "vscode": {
   "interpreter": {
    "hash": "8f3e717cd274da89498094fde320e6eab1bf0f52911d27cf47473187acb3fe8a"
   }
  }
 },
 "nbformat": 4,
 "nbformat_minor": 2
}
